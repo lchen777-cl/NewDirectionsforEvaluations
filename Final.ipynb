{
 "cells": [
  {
   "cell_type": "code",
   "execution_count": 1,
   "id": "98b1a430",
   "metadata": {},
   "outputs": [],
   "source": [
    "import requests\n",
    "import re\n",
    "from bs4 import BeautifulSoup\n",
    "import string\n",
    "import pandas as pd\n",
    "from pathlib import Path\n",
    "from selenium import webdriver\n",
    "from selenium.webdriver.common.by import By\n",
    "from selenium.webdriver.support import expected_conditions as EC\n",
    "from selenium.webdriver.support.ui import WebDriverWait\n",
    "from selenium.webdriver.chrome.service import Service\n",
    "from webdriver_manager.chrome import ChromeDriverManager\n",
    "from pyshadow.main import Shadow\n",
    "import pandas as pd\n",
    "import csv, os\n",
    "from selenium.common.exceptions import NoSuchElementException\n",
    "import time"
   ]
  },
  {
   "cell_type": "code",
   "execution_count": 2,
   "id": "00b443e0",
   "metadata": {},
   "outputs": [],
   "source": [
    "def Download_Citation(Volume, Issue):\n",
    "    driver = webdriver.Chrome(ChromeDriverManager().install())\n",
    "    #driver.execute_script(\"window.open('https://onlinelibrary.wiley.com/toc/1534875x/\"+str(Volume)+\"/\"+str(Volume)+\"/\"+str(Issue)+\"/');\")\n",
    "    driver.get(\"https://onlinelibrary.wiley.com/toc/1534875x/\"+str(Volume)+\"/\"+str(Volume)+\"/\"+str(Issue))\n",
    "    driver.find_element(By.CSS_SELECTOR, \"a[class='bulk-download-option'] span\").click()\n",
    "    Research_Articles = driver.find_elements(By.CLASS_NAME,'checkbox--primary')\n",
    "    for a in Research_Articles[1:]:\n",
    "        a.click()\n",
    "    driver.find_element(By.CSS_SELECTOR, \".bulk-wizard.exportCitationsForm\").click()\n",
    "    driver.find_element(By.CSS_SELECTOR, \".export-citations__submit\").click()\n",
    "    time.sleep(5)\n",
    "    driver.quit()"
   ]
  },
  {
   "cell_type": "code",
   "execution_count": 3,
   "id": "bf0531a0",
   "metadata": {},
   "outputs": [],
   "source": [
    "def Ref(html_name,year): \n",
    "    Ref = []\n",
    "    with open('/Users/langchen777/Desktop/NewDirectionsforEvaluations/New Directions for Evaluations/HTML/'+str(year) + \"/\" +html_name+'.html', 'r', encoding = 'utf-8') as f:\n",
    "        soup = BeautifulSoup(f.read())\n",
    "        content = soup.findAll(\"li\")\n",
    "    for li in content:\n",
    "        authors = li.findAll(\"span\", class_=\"author\")\n",
    "        line = []\n",
    "        title =\"\"\n",
    "        for x in authors:\n",
    "            line.append(x.contents[0])\n",
    "        while(len(line)<5):\n",
    "            line.append(\"\")\n",
    "        while(len(line)>5):\n",
    "            line.pop()\n",
    "        try:\n",
    "            title = li.find(\"span\", class_=\"articleTitle\").text\n",
    "        except AttributeError:\n",
    "            pass\n",
    "        try:\n",
    "            title = li.find(\"span\", class_=\"chapterTitle\").text\n",
    "        except AttributeError:\n",
    "            pass\n",
    "        try:\n",
    "            title = li.find(\"span\", class_=\"bookTitle\").text\n",
    "        except AttributeError:\n",
    "            pass\n",
    "        try:\n",
    "            title = li.find(\"span\", class_=\"otherTitle\").text\n",
    "        except AttributeError:\n",
    "            pass\n",
    "        line.append(title)\n",
    "        Ref.append(line)\n",
    "    return Ref"
   ]
  },
  {
   "cell_type": "code",
   "execution_count": 4,
   "id": "992b6279",
   "metadata": {},
   "outputs": [],
   "source": [
    "col=['AU1_r','AU2_r','AU3_r','AU4_r','AU5_r','TI_r','TY']\n",
    "for i in range(1,11):\n",
    "    col.append('AU'+str(i))\n",
    "col = col + [\"TI\",\"JO\",\"VL\",\"IS\",\"SN\",\"DO\",\"SP\",\"EP\"]\n",
    "        #a_series = pd.Series(line, index = df.columns)\n",
    "        #df = df.append(a_series, ignore_index=True)"
   ]
  },
  {
   "cell_type": "code",
   "execution_count": 5,
   "id": "98709df1",
   "metadata": {},
   "outputs": [],
   "source": [
    "def Issue(volume, issue):\n",
    "    df = pd.DataFrame(columns=col)\n",
    "    file = open('/Users/langchen777/Downloads/pericles_exported_citations.txt', 'r')\n",
    "    Lines = file.readlines()\n",
    "    count = 0\n",
    "    for line in Lines:\n",
    "        start = line[:2]\n",
    "        if start == \"TY\":\n",
    "            count = count + 1\n",
    "            #Ref = Ref()\n",
    "            row = []\n",
    "            row.append(line.split(\"-\",1)[1].strip())\n",
    "        elif start == \"AU\":\n",
    "            row.append(line.split(\"-\",1)[1].strip())\n",
    "        elif start == \"TI\":\n",
    "            while(len(row)<11):\n",
    "                row.append(\"\")\n",
    "            while(len(row)>11):\n",
    "                row.pop()\n",
    "            row.append(line.split(\"-\",1)[1].strip())\n",
    "        elif start in [\"JO\",\"VL\",\"IS\",\"SN\",\"DO\",\"SP\",\"EP\"]:\n",
    "            row.append(line.split(\"-\",1)[1].strip())\n",
    "        elif start == \"ER\":\n",
    "            try:\n",
    "                for r in Ref(str(issue)+str(count),volume):\n",
    "                    combine = r + row\n",
    "                    a_series = pd.Series(combine, index = col)\n",
    "                    df = df.append(a_series, ignore_index=True)\n",
    "            except FileNotFoundError:\n",
    "                pass\n",
    "            else:\n",
    "                r = [\"\",\"\",\"\",\"\",\"\",\"\"]\n",
    "                combine = r + row\n",
    "    os.remove(\"/Users/langchen777/Downloads/pericles_exported_citations.txt\")\n",
    "    return df"
   ]
  },
  {
   "cell_type": "code",
   "execution_count": 6,
   "id": "86f49b75",
   "metadata": {},
   "outputs": [],
   "source": [
    "def Return_Issue(i):\n",
    "    if i in range(1,5):\n",
    "        volume = 1978\n",
    "    else:\n",
    "        volume = 1979 + (i-1)//4\n",
    "    Download_Citation(volume, i)\n",
    "    df=Issue(volume,i)\n",
    "    return df"
   ]
  },
  {
   "cell_type": "code",
   "execution_count": 16,
   "id": "fed86ace",
   "metadata": {},
   "outputs": [
    {
     "name": "stderr",
     "output_type": "stream",
     "text": [
      "\n",
      "\n",
      "====== WebDriver manager ======\n",
      "Current google-chrome version is 97.0.4692\n",
      "Get LATEST chromedriver version for 97.0.4692 google-chrome\n",
      "Driver [/Users/langchen777/.wdm/drivers/chromedriver/mac64/97.0.4692.71/chromedriver] found in cache\n",
      "<ipython-input-2-04f0a9228132>:2: DeprecationWarning: executable_path has been deprecated, please pass in a Service object\n",
      "  driver = webdriver.Chrome(ChromeDriverManager().install())\n",
      "\n",
      "\n",
      "====== WebDriver manager ======\n",
      "Current google-chrome version is 97.0.4692\n",
      "Get LATEST chromedriver version for 97.0.4692 google-chrome\n",
      "Driver [/Users/langchen777/.wdm/drivers/chromedriver/mac64/97.0.4692.71/chromedriver] found in cache\n",
      "\n",
      "\n",
      "====== WebDriver manager ======\n",
      "Current google-chrome version is 97.0.4692\n",
      "Get LATEST chromedriver version for 97.0.4692 google-chrome\n",
      "Driver [/Users/langchen777/.wdm/drivers/chromedriver/mac64/97.0.4692.71/chromedriver] found in cache\n",
      "\n",
      "\n",
      "====== WebDriver manager ======\n",
      "Current google-chrome version is 97.0.4692\n",
      "Get LATEST chromedriver version for 97.0.4692 google-chrome\n",
      "Driver [/Users/langchen777/.wdm/drivers/chromedriver/mac64/97.0.4692.71/chromedriver] found in cache\n"
     ]
    },
    {
     "name": "stdout",
     "output_type": "stream",
     "text": [
      "Finsihed!\n"
     ]
    }
   ],
   "source": [
    "df = pd.DataFrame(columns=col)\n",
    "for i in range (1,4+1):\n",
    "    df = df.append(Return_Issue(i))\n",
    "df.to_csv('1978.csv')\n",
    "print(\"Finsihed!\")"
   ]
  },
  {
   "cell_type": "code",
   "execution_count": 19,
   "id": "44790865",
   "metadata": {},
   "outputs": [],
   "source": [
    "import glob\n",
    "import pandas as pd\n",
    "\n",
    "interesting_files = glob.glob(\"/Users/langchen777/Desktop/NewDirectionsforEvaluations/CSV/*.csv\") \n",
    "df = pd.concat((pd.read_csv(f, header = 0) for f in interesting_files))\n",
    "df.to_csv(\"output.csv\")"
   ]
  },
  {
   "cell_type": "code",
   "execution_count": null,
   "id": "cbf31903",
   "metadata": {},
   "outputs": [],
   "source": []
  }
 ],
 "metadata": {
  "kernelspec": {
   "display_name": "Python 3",
   "language": "python",
   "name": "python3"
  },
  "language_info": {
   "codemirror_mode": {
    "name": "ipython",
    "version": 3
   },
   "file_extension": ".py",
   "mimetype": "text/x-python",
   "name": "python",
   "nbconvert_exporter": "python",
   "pygments_lexer": "ipython3",
   "version": "3.8.8"
  }
 },
 "nbformat": 4,
 "nbformat_minor": 5
}
