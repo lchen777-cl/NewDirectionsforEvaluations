{
 "cells": [
  {
   "cell_type": "code",
   "execution_count": 3,
   "id": "e844b7d5",
   "metadata": {},
   "outputs": [
    {
     "name": "stderr",
     "output_type": "stream",
     "text": [
      "\n",
      "\n",
      "====== WebDriver manager ======\n",
      "Current google-chrome version is 97.0.4692\n",
      "Get LATEST chromedriver version for 97.0.4692 google-chrome\n",
      "Driver [/Users/langchen777/.wdm/drivers/chromedriver/mac64/97.0.4692.71/chromedriver] found in cache\n",
      "<ipython-input-3-9c2c2875acfd>:18: DeprecationWarning: executable_path has been deprecated, please pass in a Service object\n",
      "  driver = webdriver.Chrome(ChromeDriverManager().install())\n"
     ]
    },
    {
     "name": "stdout",
     "output_type": "stream",
     "text": [
      "['Ana Cláudia Figueiró', 'Eduarda Ângela Pessoa Cesse', 'Gisele Cazarin', 'Juliana Martins Barbosa da Silva Costa', 'Yluska Almeida Coelho dos Reis'] Events, Evolution, Controversies in the Implementation of a Health Surveillance Qualification Program\n"
     ]
    }
   ],
   "source": [
    "from pathlib import Path\n",
    "from selenium import webdriver\n",
    "from selenium.webdriver.common.by import By\n",
    "from selenium.webdriver.support import expected_conditions as EC\n",
    "from selenium.webdriver.support.ui import WebDriverWait\n",
    "from selenium.webdriver.chrome.service import Service\n",
    "from webdriver_manager.chrome import ChromeDriverManager\n",
    "from pyshadow.main import Shadow\n",
    "import pandas as pd\n",
    "import csv, os\n",
    "\n",
    "# Base URL\n",
    "#FS_URL = \"https://onlinelibrary.wiley.com/doi/10.1002/ev.1114#reference\"\n",
    "\n",
    "# Data and logs will be saved in the script folder for ease of access\n",
    "#PY_PATH = Path(__file__).parent.resolve()\n",
    "\n",
    "driver = webdriver.Chrome(ChromeDriverManager().install())\n",
    "driver.get(\"https://onlinelibrary.wiley.com/doi/10.1002/ev.1114#reference\")\n",
    "driver.find_element(By.CSS_SELECTOR, \"div[role='button']\").click()\n",
    "try:\n",
    "    element = WebDriverWait(driver, 10).until(\n",
    "        EC.presence_of_element_located((By.XPATH, \"//div[@class='article__body ']//li[2]\"))\n",
    "    )\n",
    "finally:\n",
    "    citing_lit= driver.find_elements(By.XPATH, \"//div[@class='article__body ']//li[2]\")\n",
    "#authors = driver.find_element(By.CSS_SELECTOR, \".rlist.cited-by__list\")\n",
    "for a in citing_lit:\n",
    "    authors = a.find_elements(By.CLASS_NAME,'hlFld-ContribAuthor')\n",
    "    AU=[]\n",
    "    for a in authors:\n",
    "        AU.append(a.text[:-1])\n",
    "    TI = driver.find_element(By.CSS_SELECTOR,'body > div:nth-child(2) > div:nth-child(1) > div:nth-child(2) > main:nth-child(1) > div:nth-child(1) > div:nth-child(1) > section:nth-child(2) > div:nth-child(1) > div:nth-child(1) > div:nth-child(1) > div:nth-child(1) > article:nth-child(1) > div:nth-child(1) > div:nth-child(1) > div:nth-child(5) > div:nth-child(3) > section:nth-child(1) > div:nth-child(1) > div:nth-child(2) > ul:nth-child(3) > li:nth-child(2) > span:nth-child(2)')\n",
    "    print(AU, TI.text)\n",
    "driver.quit()"
   ]
  },
  {
   "cell_type": "code",
   "execution_count": 4,
   "id": "2ffcc7f3",
   "metadata": {},
   "outputs": [
    {
     "name": "stderr",
     "output_type": "stream",
     "text": [
      "\n",
      "\n",
      "====== WebDriver manager ======\n",
      "Current google-chrome version is 97.0.4692\n",
      "Get LATEST chromedriver version for 97.0.4692 google-chrome\n",
      "Driver [/Users/langchen777/.wdm/drivers/chromedriver/mac64/97.0.4692.71/chromedriver] found in cache\n",
      "<ipython-input-4-5a42663c4dd1>:2: DeprecationWarning: executable_path has been deprecated, please pass in a Service object\n",
      "  driver = webdriver.Chrome(ChromeDriverManager().install())\n"
     ]
    }
   ],
   "source": [
    "from selenium.common.exceptions import ElementNotInteractableException\n",
    "driver = webdriver.Chrome(ChromeDriverManager().install())\n",
    "driver.get(\"https://onlinelibrary.wiley.com/toc/1534875x/1999/1999/84\")\n",
    "driver.find_element(By.CSS_SELECTOR, \"a[class='bulk-download-option'] span\").click()\n",
    "try:\n",
    "    driver.find_element(By.CSS_SELECTOR, \".export-citations__submit\").click()\n",
    "except ElementNotInteractableException:\n",
    "    pass\n",
    "Research_Articles = driver.find_elements(By.CLASS_NAME,'checkbox--primary')\n",
    "for a in Research_Articles[1:]:\n",
    "    a.click()\n",
    "driver.find_element(By.CSS_SELECTOR, \".bulk-wizard.exportCitationsForm\").click()\n",
    "driver.find_element(By.CSS_SELECTOR, \".export-citations__submit\").click()"
   ]
  },
  {
   "cell_type": "code",
   "execution_count": null,
   "id": "a7cf8ee5",
   "metadata": {},
   "outputs": [],
   "source": []
  }
 ],
 "metadata": {
  "kernelspec": {
   "display_name": "Python 3",
   "language": "python",
   "name": "python3"
  },
  "language_info": {
   "codemirror_mode": {
    "name": "ipython",
    "version": 3
   },
   "file_extension": ".py",
   "mimetype": "text/x-python",
   "name": "python",
   "nbconvert_exporter": "python",
   "pygments_lexer": "ipython3",
   "version": "3.8.8"
  }
 },
 "nbformat": 4,
 "nbformat_minor": 5
}
