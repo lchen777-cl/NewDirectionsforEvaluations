{
 "cells": [
  {
   "cell_type": "code",
   "execution_count": 47,
   "id": "a5a3b8ad",
   "metadata": {},
   "outputs": [],
   "source": [
    "import requests\n",
    "import re\n",
    "from bs4 import BeautifulSoup\n",
    "import string\n",
    "import pandas as pd\n",
    "from pathlib import Path\n",
    "from selenium import webdriver\n",
    "from selenium.webdriver.common.by import By\n",
    "from selenium.webdriver.support import expected_conditions as EC\n",
    "from selenium.webdriver.support.ui import WebDriverWait\n",
    "from selenium.webdriver.chrome.service import Service\n",
    "from webdriver_manager.chrome import ChromeDriverManager\n",
    "from pyshadow.main import Shadow\n",
    "import pandas as pd\n",
    "import csv, os\n",
    "from selenium.common.exceptions import NoSuchElementException\n",
    "import time"
   ]
  },
  {
   "cell_type": "code",
   "execution_count": 48,
   "id": "9973a822",
   "metadata": {},
   "outputs": [],
   "source": [
    "col=['AU1_r','AU2_r','AU3_r','AU4_r','AU5_r','TI_r','TY']\n",
    "for i in range(1,11):\n",
    "    col.append('AU'+str(i))\n",
    "col = col + [\"TI\",\"JO\",\"VL\",\"IS\",\"SN\",\"DO\",\"SP\",\"EP\"]"
   ]
  },
  {
   "cell_type": "code",
   "execution_count": 49,
   "id": "3af09abc",
   "metadata": {},
   "outputs": [],
   "source": [
    "def Download_Citation(Volume, Issue):\n",
    "    driver = webdriver.Chrome(ChromeDriverManager().install())\n",
    "    #driver.execute_script(\"window.open('https://onlinelibrary.wiley.com/toc/1534875x/\"+str(Volume)+\"/\"+str(Volume)+\"/\"+str(Issue)+\"/');\")\n",
    "    driver.get(\"https://onlinelibrary.wiley.com/toc/1534875x/\"+str(Volume)+\"/\"+str(Volume)+\"/\"+str(Issue))\n",
    "    driver.find_element(By.CSS_SELECTOR, \"a[class='bulk-download-option'] span\").click()\n",
    "    Research_Articles = driver.find_elements(By.CLASS_NAME,'checkbox--primary')\n",
    "    for a in Research_Articles[1:]:\n",
    "        a.click()\n",
    "    driver.find_element(By.CSS_SELECTOR, \".bulk-wizard.exportCitationsForm\").click()\n",
    "    driver.find_element(By.CSS_SELECTOR, \".export-citations__submit\").click()\n",
    "    time.sleep(5)\n",
    "    driver.quit()"
   ]
  },
  {
   "cell_type": "code",
   "execution_count": 54,
   "id": "7ac9640e",
   "metadata": {},
   "outputs": [],
   "source": [
    "def Find_Authors(html_name): \n",
    "    All = []\n",
    "    with open('/Users/langchen777/Desktop/NewDirectionsforEvaluations/New Directions for Evaluations/HTML/'+html_name+'.html', 'r', encoding = 'utf-8') as f:\n",
    "        soup = BeautifulSoup(f.read())\n",
    "        soup = BeautifulSoup(f.read())\n",
    "        content = soup.findAll(\"li\")\n",
    "    for li in content:\n",
    "        authors = li.findAll(\"span\", class_=\"author\")\n",
    "        line = []\n",
    "        for x in authors:\n",
    "            line.append(x.contents[0])\n",
    "        while(len(line)<5):\n",
    "            line.append(\"\")\n",
    "        while(len(line)>5):\n",
    "            line.pop()\n",
    "        try:\n",
    "            title = li.find(\"span\", class_=\"articleTitle\").text\n",
    "        except AttributeError:\n",
    "            pass\n",
    "        try:\n",
    "            title = li.find(\"span\", class_=\"chapterTitle\").text\n",
    "        except AttributeError:\n",
    "            pass\n",
    "        try:\n",
    "            title = li.find(\"span\", class_=\"bookTitle\").text\n",
    "        except AttributeError:\n",
    "            pass\n",
    "        try:\n",
    "            title = li.find(\"span\", class_=\"otherTitle\").text\n",
    "        except AttributeError:\n",
    "            pass\n",
    "        line.append(title)\n",
    "        All.append(line)\n",
    "        print(All)\n",
    "    return All"
   ]
  },
  {
   "cell_type": "code",
   "execution_count": 55,
   "id": "1d71b3e5",
   "metadata": {},
   "outputs": [],
   "source": [
    "def Read_Citation(issue):\n",
    "    df = pd.DataFrame(columns=col)\n",
    "    file = open('/Users/langchen777/Downloads/pericles_exported_citations.txt', 'r')\n",
    "    Lines = file.readlines()\n",
    "    count = 0\n",
    "    for line in Lines:\n",
    "        start = line[:2]\n",
    "        if start == \"TY\":\n",
    "            count = count + 1\n",
    "            #Ref = Ref()\n",
    "            row = []\n",
    "            row.append(line.split(\"-\",1)[1].strip())\n",
    "        elif start == \"AU\":\n",
    "            row.append(line.split(\"-\",1)[1].strip())\n",
    "        elif start == \"TI\":\n",
    "            while(len(row)<11):\n",
    "                row.append(\"\")\n",
    "            while(len(row)>11):\n",
    "                row.pop()\n",
    "            row.append(line.split(\"-\",1)[1].strip())\n",
    "        elif start in [\"JO\",\"VL\",\"IS\",\"SN\",\"DO\",\"SP\",\"EP\"]:\n",
    "            row.append(line.split(\"-\",1)[1].strip())\n",
    "        elif start == \"ER\":\n",
    "            try:\n",
    "                for r in Find_Authors(str(issue)+str(count)):\n",
    "                    combine = r + row\n",
    "                    print(combine)\n",
    "                    a_series = pd.Series(combine, index = col)\n",
    "                    df = df.append(a_series, ignore_index=True)\n",
    "            except FileNotFoundError:\n",
    "                pass\n",
    "            else:\n",
    "                r = [\"\",\"\",\"\",\"\",\"\",\"\"]\n",
    "                combine = r + row\n",
    "                print(combine)\n",
    "    #os.remove(\"/Users/langchen777/Downloads/pericles_exported_citations.txt\")\n",
    "    return df"
   ]
  },
  {
   "cell_type": "code",
   "execution_count": 56,
   "id": "3f531e07",
   "metadata": {},
   "outputs": [],
   "source": [
    "def Return_Issue(i):\n",
    "    if i in range(1,5):\n",
    "        volume = 1978\n",
    "    else:\n",
    "        volume = 1979 + (i-1)//4\n",
    "    Download_Citation(volume, i)\n",
    "    df=Read_Citation(volume,i)\n",
    "    return df"
   ]
  },
  {
   "cell_type": "code",
   "execution_count": 57,
   "id": "4bf20f0b",
   "metadata": {},
   "outputs": [
    {
     "name": "stdout",
     "output_type": "stream",
     "text": [
      "['', '', '', '', '', '', 'JOUR', 'Gay, Geri', 'Bennington, Tammy L.', '', '', '', '', '', '', '', '', 'Reflective evaluation in a “technologically textured” world: An activity theory approach', 'New Directions for Evaluation', '1999', '84', '1097-6736', 'https://doi.org/10.1002/ev.1150', '3', '21']\n",
      "['', '', '', '', '', '', 'JOUR', 'Watt, James H.', '', '', '', '', '', '', '', '', '', 'Internet systems for evaluation research', 'New Directions for Evaluation', '1999', '84', '1097-6736', 'https://doi.org/10.1002/ev.1151', '23', '43']\n",
      "['', '', '', '', '', '', 'JOUR', 'Rieger, Robert H.', 'Sturgill, Amanda', '', '', '', '', '', '', '', '', 'Evaluating on-line environments: Tools for observing users and gathering feedback', 'New Directions for Evaluation', '1999', '84', '1097-6736', 'https://doi.org/10.1002/ev.1152', '45', '58']\n",
      "['', '', '', '', '', '', 'JOUR', 'Bennington, Tammy L.', 'Gay, Geri', 'Jones, Michael L. W.', '', '', '', '', '', '', '', 'Using multimedia records to support mixed-method evaluation', 'New Directions for Evaluation', '1999', '84', '1097-6736', 'https://doi.org/10.1002/ev.1153', '59', '72']\n",
      "['', '', '', '', '', '', 'JOUR', 'Mathison, Sandra', 'Meyer, Tricia R.', 'Vargas, Juan D.', '', '', '', '', '', '', '', 'Using verbal protocol methodology in the evaluation of software and hardware', 'New Directions for Evaluation', '1999', '84', '1097-6736', 'https://doi.org/10.1002/ev.1154', '73', '86']\n",
      "['', '', '', '', '', '', 'JOUR', 'Bennington, Tammy L.', '', '', '', '', '', '', '', '', '', 'Ethical implications of computer-mediated evaluation', 'New Directions for Evaluation', '1999', '84', '1097-6736', 'https://doi.org/10.1002/ev.1155', '87', '103']\n"
     ]
    },
    {
     "data": {
      "text/html": [
       "<div>\n",
       "<style scoped>\n",
       "    .dataframe tbody tr th:only-of-type {\n",
       "        vertical-align: middle;\n",
       "    }\n",
       "\n",
       "    .dataframe tbody tr th {\n",
       "        vertical-align: top;\n",
       "    }\n",
       "\n",
       "    .dataframe thead th {\n",
       "        text-align: right;\n",
       "    }\n",
       "</style>\n",
       "<table border=\"1\" class=\"dataframe\">\n",
       "  <thead>\n",
       "    <tr style=\"text-align: right;\">\n",
       "      <th></th>\n",
       "      <th>AU1_r</th>\n",
       "      <th>AU2_r</th>\n",
       "      <th>AU3_r</th>\n",
       "      <th>AU4_r</th>\n",
       "      <th>AU5_r</th>\n",
       "      <th>TI_r</th>\n",
       "      <th>TY</th>\n",
       "      <th>AU1</th>\n",
       "      <th>AU2</th>\n",
       "      <th>AU3</th>\n",
       "      <th>...</th>\n",
       "      <th>AU9</th>\n",
       "      <th>AU10</th>\n",
       "      <th>TI</th>\n",
       "      <th>JO</th>\n",
       "      <th>VL</th>\n",
       "      <th>IS</th>\n",
       "      <th>SN</th>\n",
       "      <th>DO</th>\n",
       "      <th>SP</th>\n",
       "      <th>EP</th>\n",
       "    </tr>\n",
       "  </thead>\n",
       "  <tbody>\n",
       "  </tbody>\n",
       "</table>\n",
       "<p>0 rows × 25 columns</p>\n",
       "</div>"
      ],
      "text/plain": [
       "Empty DataFrame\n",
       "Columns: [AU1_r, AU2_r, AU3_r, AU4_r, AU5_r, TI_r, TY, AU1, AU2, AU3, AU4, AU5, AU6, AU7, AU8, AU9, AU10, TI, JO, VL, IS, SN, DO, SP, EP]\n",
       "Index: []\n",
       "\n",
       "[0 rows x 25 columns]"
      ]
     },
     "execution_count": 57,
     "metadata": {},
     "output_type": "execute_result"
    }
   ],
   "source": [
    "Read_Citation(84)"
   ]
  },
  {
   "cell_type": "code",
   "execution_count": 27,
   "id": "c296c719",
   "metadata": {},
   "outputs": [
    {
     "data": {
      "text/html": [
       "<div>\n",
       "<style scoped>\n",
       "    .dataframe tbody tr th:only-of-type {\n",
       "        vertical-align: middle;\n",
       "    }\n",
       "\n",
       "    .dataframe tbody tr th {\n",
       "        vertical-align: top;\n",
       "    }\n",
       "\n",
       "    .dataframe thead th {\n",
       "        text-align: right;\n",
       "    }\n",
       "</style>\n",
       "<table border=\"1\" class=\"dataframe\">\n",
       "  <thead>\n",
       "    <tr style=\"text-align: right;\">\n",
       "      <th></th>\n",
       "      <th>AU1_r</th>\n",
       "      <th>AU2_r</th>\n",
       "      <th>AU3_r</th>\n",
       "      <th>AU4_r</th>\n",
       "      <th>AU5_r</th>\n",
       "      <th>TI_r</th>\n",
       "      <th>TY</th>\n",
       "      <th>AU1</th>\n",
       "      <th>AU2</th>\n",
       "      <th>AU3</th>\n",
       "      <th>...</th>\n",
       "      <th>AU9</th>\n",
       "      <th>AU10</th>\n",
       "      <th>TI</th>\n",
       "      <th>JO</th>\n",
       "      <th>VL</th>\n",
       "      <th>IS</th>\n",
       "      <th>SN</th>\n",
       "      <th>DO</th>\n",
       "      <th>SP</th>\n",
       "      <th>EP</th>\n",
       "    </tr>\n",
       "  </thead>\n",
       "  <tbody>\n",
       "  </tbody>\n",
       "</table>\n",
       "<p>0 rows × 25 columns</p>\n",
       "</div>"
      ],
      "text/plain": [
       "Empty DataFrame\n",
       "Columns: [AU1_r, AU2_r, AU3_r, AU4_r, AU5_r, TI_r, TY, AU1, AU2, AU3, AU4, AU5, AU6, AU7, AU8, AU9, AU10, TI, JO, VL, IS, SN, DO, SP, EP]\n",
       "Index: []\n",
       "\n",
       "[0 rows x 25 columns]"
      ]
     },
     "execution_count": 27,
     "metadata": {},
     "output_type": "execute_result"
    }
   ],
   "source": [
    "df"
   ]
  },
  {
   "cell_type": "code",
   "execution_count": null,
   "id": "96da770c",
   "metadata": {},
   "outputs": [],
   "source": []
  }
 ],
 "metadata": {
  "kernelspec": {
   "display_name": "Python 3",
   "language": "python",
   "name": "python3"
  },
  "language_info": {
   "codemirror_mode": {
    "name": "ipython",
    "version": 3
   },
   "file_extension": ".py",
   "mimetype": "text/x-python",
   "name": "python",
   "nbconvert_exporter": "python",
   "pygments_lexer": "ipython3",
   "version": "3.8.8"
  }
 },
 "nbformat": 4,
 "nbformat_minor": 5
}
