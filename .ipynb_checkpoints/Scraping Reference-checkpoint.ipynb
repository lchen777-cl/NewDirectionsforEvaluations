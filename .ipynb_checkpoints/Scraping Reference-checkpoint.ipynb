{
 "cells": [
  {
   "cell_type": "code",
   "execution_count": 35,
   "id": "777362d7",
   "metadata": {},
   "outputs": [
    {
     "data": {
      "text/plain": [
       "'Wiley Online Library requires cookies for authentication and use of other site features; therefore, cookies must be enabled to browse the site. Detailed information on how Wiley uses cookies can be found in our Privacy Policy [https://www.wiley.com/en-us/privacy].\\n'"
      ]
     },
     "execution_count": 35,
     "metadata": {},
     "output_type": "execute_result"
    }
   ],
   "source": [
    "import urllib3\n",
    "\n",
    "http = urllib3.PoolManager()\n",
    "r = http.request('get', 'https://onlinelibrary.wiley.com/doi/full/10.1002/ev.20469',headers={\"basic_auth\":'remichen@g.ucla.edu:Cloudnine(9)',\"Token\": \"6134da05-7ebf-41dd-89ba-b73b0c72e32c\"})\n",
    "reference = r.data.decode('utf-8')\n",
    "reference"
   ]
  },
  {
   "cell_type": "code",
   "execution_count": 26,
   "id": "a4c32016",
   "metadata": {},
   "outputs": [],
   "source": [
    "file = open(\"/Users/langchen777/Desktop/NewDirectionsforEvaluations/reference.html\",\"w\")\n",
    "file.write(reference)\n",
    "file.close()"
   ]
  },
  {
   "cell_type": "code",
   "execution_count": 13,
   "id": "6699f702",
   "metadata": {},
   "outputs": [],
   "source": [
    "from bs4 import BeautifulSoup\n",
    "with open('/Users/langchen777/Desktop/NewDirectionsforEvaluations/reference.html', 'r', encoding = 'utf-8') as f:\n",
    "    soup = BeautifulSoup(f.read())\n",
    "    content = soup.findAll(\"li\")\n",
    "for li in content:\n",
    "    authors = li.findAll(\"span\", class_=\"author\")\n",
    "    line = []\n",
    "    for x in authors:\n",
    "        line.append(x.contents[0])\n",
    "    while(len(line)<5):\n",
    "        line.append(\"\")\n",
    "    while(len(line)>5):\n",
    "        line.pop()\n",
    "    try:\n",
    "        title = li.find(\"span\", class_=\"articleTitle\").text\n",
    "    except AttributeError:\n",
    "        pass\n",
    "    try:\n",
    "        title = li.find(\"span\", class_=\"chapterTitle\").text\n",
    "    except AttributeError:\n",
    "        pass\n",
    "    try:\n",
    "        title = li.find(\"span\", class_=\"bookTitle\").text\n",
    "    except AttributeError:\n",
    "        pass\n",
    "    try:\n",
    "        title = li.find(\"span\", class_=\"otherTitle\").text\n",
    "    except AttributeError:\n",
    "        pass\n",
    "    line.append(title)\n",
    "    print(line)"
   ]
  },
  {
   "cell_type": "code",
   "execution_count": 32,
   "id": "f65c837c",
   "metadata": {},
   "outputs": [
    {
     "data": {
      "text/plain": [
       "'Wiley Online Library requires cookies for authentication and use of other site features; therefore, cookies must be enabled to browse the site. Detailed information on how Wiley uses cookies can be found in our Privacy Policy [https://www.wiley.com/en-us/privacy].\\n'"
      ]
     },
     "execution_count": 32,
     "metadata": {},
     "output_type": "execute_result"
    }
   ],
   "source": [
    "import urllib3\n",
    "\n",
    "http = urllib3.PoolManager()\n",
    "myHeaders = urllib3.util.make_headers(basic_auth='remichen@g.ucla.edu:Cloudnine(9)')\n",
    "r = http.request('GET', 'https://onlinelibrary.wiley.com/doi/full/10.1002/ev.20469', headers=myHeaders)\n",
    "reference = r.data.decode('utf-8')\n",
    "reference"
   ]
  },
  {
   "cell_type": "code",
   "execution_count": 2,
   "id": "f5bf2c93",
   "metadata": {},
   "outputs": [
    {
     "data": {
      "text/plain": [
       "'Wiley Online Library requires cookies for authentication and use of other site features; therefore, cookies must be enabled to browse the site. Detailed information on how Wiley uses cookies can be found in our Privacy Policy [https://www.wiley.com/en-us/privacy].\\n'"
      ]
     },
     "execution_count": 2,
     "metadata": {},
     "output_type": "execute_result"
    }
   ],
   "source": [
    "import certifi\n",
    "import urllib3\n",
    "\n",
    "http = urllib3.PoolManager(\n",
    "    cert_reqs=\"CERT_REQUIRED\",\n",
    "    ca_certs=certifi.where()\n",
    ")\n",
    "\n",
    "r = http.request(\"GET\", \"https://onlinelibrary.wiley.com/doi/full/10.1002/ev.20469\")\n",
    "reference = r.data.decode('utf-8')\n",
    "reference"
   ]
  },
  {
   "cell_type": "code",
   "execution_count": 3,
   "id": "c9a80097",
   "metadata": {},
   "outputs": [],
   "source": [
    "import requests\n",
    "import re\n",
    "from bs4 import BeautifulSoup\n",
    "import string\n",
    "import pandas as pd\n",
    "from pathlib import Path\n",
    "from selenium import webdriver\n",
    "from selenium.webdriver.common.by import By\n",
    "from selenium.webdriver.support import expected_conditions as EC\n",
    "from selenium.webdriver.support.ui import WebDriverWait\n",
    "from selenium.webdriver.chrome.service import Service\n",
    "from webdriver_manager.chrome import ChromeDriverManager\n",
    "from pyshadow.main import Shadow\n",
    "import pandas as pd\n",
    "import csv, os\n",
    "from selenium.common.exceptions import NoSuchElementException"
   ]
  },
  {
   "cell_type": "code",
   "execution_count": 4,
   "id": "74fc3fdc",
   "metadata": {},
   "outputs": [
    {
     "name": "stderr",
     "output_type": "stream",
     "text": [
      "\n",
      "\n",
      "====== WebDriver manager ======\n",
      "Current google-chrome version is 97.0.4692\n",
      "Get LATEST chromedriver version for 97.0.4692 google-chrome\n",
      "Driver [/Users/langchen777/.wdm/drivers/chromedriver/mac64/97.0.4692.71/chromedriver] found in cache\n",
      "<ipython-input-4-d65565793a5f>:1: DeprecationWarning: executable_path has been deprecated, please pass in a Service object\n",
      "  driver = webdriver.Chrome(ChromeDriverManager().install())\n"
     ]
    }
   ],
   "source": [
    "driver = webdriver.Chrome(ChromeDriverManager().install())\n",
    "#driver.execute_script(\"window.open('https://onlinelibrary.wiley.com/toc/1534875x/\"+str(Volume)+\"/\"+str(Volume)+\"/\"+str(Issue)+\"/');\")\n",
    "driver.get(\"https://onlinelibrary.wiley.com/doi/full/10.1002/ev.20469\")\n",
    ".icon-profile_empty"
   ]
  },
  {
   "cell_type": "code",
   "execution_count": null,
   "id": "8be0a303",
   "metadata": {},
   "outputs": [],
   "source": []
  }
 ],
 "metadata": {
  "kernelspec": {
   "display_name": "Python 3",
   "language": "python",
   "name": "python3"
  },
  "language_info": {
   "codemirror_mode": {
    "name": "ipython",
    "version": 3
   },
   "file_extension": ".py",
   "mimetype": "text/x-python",
   "name": "python",
   "nbconvert_exporter": "python",
   "pygments_lexer": "ipython3",
   "version": "3.8.8"
  }
 },
 "nbformat": 4,
 "nbformat_minor": 5
}
